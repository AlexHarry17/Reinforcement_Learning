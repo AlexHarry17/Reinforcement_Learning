{
  "nbformat": 4,
  "nbformat_minor": 0,
  "metadata": {
    "colab": {
      "name": "FrozenLake.ipynb",
      "version": "0.3.2",
      "provenance": [],
      "collapsed_sections": [],
      "include_colab_link": true
    },
    "kernelspec": {
      "name": "python3",
      "display_name": "Python 3"
    },
    "accelerator": "GPU"
  },
  "cells": [
    {
      "cell_type": "markdown",
      "metadata": {
        "id": "view-in-github",
        "colab_type": "text"
      },
      "source": [
        "<a href=\"https://colab.research.google.com/github/AlexHarry17/Reinforcement_Learning/blob/master/Deep_Learning_Course/FrozenLake.ipynb\" target=\"_parent\"><img src=\"https://colab.research.google.com/assets/colab-badge.svg\" alt=\"Open In Colab\"/></a>"
      ]
    },
    {
      "cell_type": "markdown",
      "metadata": {
        "id": "Ec-OOHh0neVe",
        "colab_type": "text"
      },
      "source": [
        ""
      ]
    },
    {
      "cell_type": "markdown",
      "metadata": {
        "id": "to4EXe0snhVC",
        "colab_type": "text"
      },
      "source": [
        "This code is sourced from https://github.com/simoninithomas/Deep_reinforcement_learning_Course/blob/master/Q%20learning/FrozenLake/Q%20Learning%20with%20FrozenLake.ipynb from the course https://simoninithomas.github.io/Deep_reinforcement_learning_Course/#syllabus"
      ]
    },
    {
      "cell_type": "code",
      "metadata": {
        "id": "1BCMxd_Yn2Ie",
        "colab_type": "code",
        "colab": {}
      },
      "source": [
        "!pip install numpy\n",
        "!pip install gym"
      ],
      "execution_count": 0,
      "outputs": []
    },
    {
      "cell_type": "code",
      "metadata": {
        "id": "SkMTE9a5oLRm",
        "colab_type": "code",
        "colab": {}
      },
      "source": [
        "import numpy as np\n",
        "import gym\n",
        "import random"
      ],
      "execution_count": 0,
      "outputs": []
    },
    {
      "cell_type": "code",
      "metadata": {
        "id": "5IJKUnpQo6kT",
        "colab_type": "code",
        "colab": {}
      },
      "source": [
        "env = gym.make(\"FrozenLake-v0\")"
      ],
      "execution_count": 0,
      "outputs": []
    },
    {
      "cell_type": "code",
      "metadata": {
        "id": "9cUaicG5pBEy",
        "colab_type": "code",
        "colab": {}
      },
      "source": [
        "action_size=env.action_space.n\n",
        "state_size=env.observation_space.n\n",
        "qtable=np.zeros((state_size, action_size))\n",
        "print(qtable)"
      ],
      "execution_count": 0,
      "outputs": []
    },
    {
      "cell_type": "code",
      "metadata": {
        "id": "n0-BW9Sypr1a",
        "colab_type": "code",
        "colab": {}
      },
      "source": [
        "total_episodes = 15000\n",
        "learning_rate=0.8\n",
        "max_steps = 99\n",
        "gamma=0.95\n",
        "epsilon=1.0\n",
        "max_epsilon=1.0\n",
        "min_epsilon=0.01\n",
        "decay_rate=0.005\n"
      ],
      "execution_count": 0,
      "outputs": []
    },
    {
      "cell_type": "code",
      "metadata": {
        "id": "THt2YSXuqSos",
        "colab_type": "code",
        "colab": {}
      },
      "source": [
        "rewards = []\n",
        "\n",
        "# Loops until learning time is up\n",
        "for episode in range(total_episodes):\n",
        "  state=env.reset()\n",
        "  step = 0\n",
        "  done = False\n",
        "  total_rewards=0\n",
        "  \n",
        "  for step in range(max_steps):\n",
        "    exp_tradeoff = random.uniform(0,1)\n",
        "    # Decide whether to explore or not\n",
        "    if exp_tradeoff > epsilon:\n",
        "      action = np.argmax(qtable[state,:])\n",
        "    else:\n",
        "      action = env.action_space.sample()\n",
        "    \n",
        "    # Get new state, reward, if round is done\n",
        "    new_state, reward, done, info = env.step(action) \n",
        "    # Update the qtable\n",
        "    qtable[state, action] = qtable[state, action] + learning_rate * (reward + gamma * np.max(qtable[new_state,:])- qtable[state,action])\n",
        "    \n",
        "    total_rewards += reward\n",
        "    state = new_state\n",
        "    if done: break\n",
        "\n",
        "  # Reduce epsilon for les exploration\n",
        "  epsilon = min_epsilon + (max_epsilon-min_epsilon)*np.exp(-decay_rate*episode)\n",
        "  rewards.append(total_rewards)\n",
        "\n"
      ],
      "execution_count": 0,
      "outputs": []
    },
    {
      "cell_type": "code",
      "metadata": {
        "id": "mrL4dHtprtNM",
        "colab_type": "code",
        "colab": {}
      },
      "source": [
        "print(\"Score: \", sum(rewards)/total_episodes)\n",
        "print(qtable)"
      ],
      "execution_count": 0,
      "outputs": []
    },
    {
      "cell_type": "code",
      "metadata": {
        "id": "IorVkB4Ssz4b",
        "colab_type": "code",
        "colab": {}
      },
      "source": [
        "# Play FrozenLake\n",
        "\n",
        "env.reset()\n",
        "state = env.reset()\n",
        "step = 0\n",
        "done = False\n",
        "print(\"--------------------------------\")\n",
        "print('Episode: ', episode)\n",
        "print(\"--------------------------------\")\n",
        "\n",
        "for step in range(max_steps):\n",
        "  action = np.argmax(qtable[state,:])\n",
        "  new_state, reward, done, info = env.step(action)\n",
        "  env.render()\n",
        "  if done: \n",
        "    env.render()\n",
        "    print('# Steps taken: ', step)\n",
        "    break\n",
        "  state = new_state\n",
        "env.close()"
      ],
      "execution_count": 0,
      "outputs": []
    },
    {
      "cell_type": "code",
      "metadata": {
        "id": "L6pvcO1Gts0D",
        "colab_type": "code",
        "colab": {}
      },
      "source": [
        ""
      ],
      "execution_count": 0,
      "outputs": []
    }
  ]
}